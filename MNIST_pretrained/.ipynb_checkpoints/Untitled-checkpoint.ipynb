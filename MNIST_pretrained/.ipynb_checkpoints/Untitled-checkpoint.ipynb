{
 "cells": [
  {
   "cell_type": "code",
   "execution_count": 29,
   "metadata": {},
   "outputs": [],
   "source": [
    "import caffe\n",
    "import numpy as np\n",
    "from skimage import color\n",
    "import skimage\n",
    "import imageio\n",
    "import matplotlib.pyplot as plt\n",
    "\n",
    "caffe.set_mode_cpu()\n",
    "net = caffe.Net('lenet_deploy.prototxt', 'lenet_iter_5000.caffemodel', caffe.TEST)"
   ]
  },
  {
   "cell_type": "code",
   "execution_count": 89,
   "metadata": {
    "scrolled": true
   },
   "outputs": [
    {
     "name": "stdout",
     "output_type": "stream",
     "text": [
      "1.0\n",
      "(1, 10)\n",
      "Number: 8\n",
      "[[  2.03160957e-01   1.48450502e-03   1.57842783e-06   3.39572027e-04\n",
      "    3.30757408e-04   1.01449092e-04   3.36078228e-04   1.05737627e-06\n",
      "    7.57945716e-01   3.62983346e-02]]\n",
      "0.757946\n"
     ]
    }
   ],
   "source": [
    "im = caffe.io.load_image('6.png')\n",
    "\n",
    "# plt.imshow(im)\n",
    "# plt.show()\n",
    "\n",
    "img_gray = color.rgb2gray(im)\n",
    "# img_gray = 1 - img_gray # invert the white background image\n",
    "\n",
    "# plt.imshow(img_gray)\n",
    "# plt.show()\n",
    "\n",
    "img_gray_resized = skimage.transform.resize(img_gray, (28, 28), mode='constant')\n",
    "# plt.imshow(img_gray_resized)\n",
    "# plt.show()\n",
    "# print(img_gray_resized.shape)\n",
    "\n",
    "net.blobs['data'].data[...] = img_gray_resized[np.newaxis, np.newaxis, :, :]\n",
    "\n",
    "out = net.forward()\n",
    "print(np.sum(out['prob']))\n",
    "print(out['prob'].shape)\n",
    "print(\"Number:\", out['prob'].argmax())\n",
    "print(out['prob'])\n",
    "print(out['prob'].max())\n",
    "# print(out['argmax'])"
   ]
  },
  {
   "cell_type": "code",
   "execution_count": null,
   "metadata": {},
   "outputs": [],
   "source": []
  }
 ],
 "metadata": {
  "kernelspec": {
   "display_name": "Python 3",
   "language": "python",
   "name": "python3"
  },
  "language_info": {
   "codemirror_mode": {
    "name": "ipython",
    "version": 3
   },
   "file_extension": ".py",
   "mimetype": "text/x-python",
   "name": "python",
   "nbconvert_exporter": "python",
   "pygments_lexer": "ipython3",
   "version": "3.6.3"
  }
 },
 "nbformat": 4,
 "nbformat_minor": 2
}
