{
 "cells": [
  {
   "cell_type": "code",
   "execution_count": 10,
   "metadata": {},
   "outputs": [],
   "source": [
    "import caffe\n",
    "import numpy as np\n",
    "from skimage import color\n",
    "import skimage\n",
    "import imageio\n",
    "import matplotlib.pyplot as plt\n",
    "\n",
    "# caffe.set_mode_cpu()\n",
    "caffe.set_device(0)\n",
    "caffe.set_mode_gpu()\n",
    "net = caffe.Net('lenet_deploy.prototxt', 'lenet_iter_10000.caffemodel', caffe.TEST)"
   ]
  },
  {
   "cell_type": "code",
   "execution_count": 14,
   "metadata": {
    "scrolled": true
   },
   "outputs": [
    {
     "name": "stdout",
     "output_type": "stream",
     "text": [
      "1.0\n",
      "(1, 10)\n",
      "Number: 4\n",
      "[[  1.41803944e-10   1.08764638e-07   1.25599225e-10   4.41066783e-09\n",
      "    9.99997139e-01   5.78189985e-09   1.47636200e-07   5.01334441e-08\n",
      "    7.35914440e-08   2.54081874e-06]]\n",
      "0.999997\n"
     ]
    }
   ],
   "source": [
    "img = caffe.io.load_image('sketch-4.png')\n",
    "\n",
    "# plt.imshow(im)\n",
    "# plt.show()\n",
    "\n",
    "# print(img)\n",
    "img_gray = color.rgb2gray(img)\n",
    "img_gray = 1 - img_gray # invert the white background image\n",
    "\n",
    "# plt.imshow(img_gray)\n",
    "# plt.show()\n",
    "\n",
    "img_gray_resized = skimage.transform.resize(img_gray, (28, 28), mode='constant')\n",
    "# plt.imshow(img_gray_resized)\n",
    "# plt.show()\n",
    "# print(img_gray_resized.shape)\n",
    "\n",
    "# print(\"Sum = \", np.sum(img_gray_resized))\n",
    "net.blobs['data'].data[...] = img_gray_resized[np.newaxis, np.newaxis, :, :]\n",
    "\n",
    "out = net.forward()\n",
    "print(np.sum(out['prob']))\n",
    "print(out['prob'].shape)\n",
    "print(\"Number:\", out['prob'].argmax())\n",
    "print(out['prob'])\n",
    "print(out['prob'].max())\n",
    "# print(out['argmax'])"
   ]
  },
  {
   "cell_type": "code",
   "execution_count": null,
   "metadata": {},
   "outputs": [],
   "source": []
  }
 ],
 "metadata": {
  "kernelspec": {
   "display_name": "Python 3",
   "language": "python",
   "name": "python3"
  },
  "language_info": {
   "codemirror_mode": {
    "name": "ipython",
    "version": 3
   },
   "file_extension": ".py",
   "mimetype": "text/x-python",
   "name": "python",
   "nbconvert_exporter": "python",
   "pygments_lexer": "ipython3",
   "version": "3.5.2"
  }
 },
 "nbformat": 4,
 "nbformat_minor": 2
}
