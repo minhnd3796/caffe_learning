{
 "cells": [
  {
   "cell_type": "code",
   "execution_count": 1,
   "metadata": {},
   "outputs": [],
   "source": [
    "import caffe\n",
    "import numpy as np\n",
    "from skimage import color\n",
    "import skimage\n",
    "import imageio\n",
    "import matplotlib.pyplot as plt\n",
    "\n",
    "caffe.set_mode_cpu()\n",
    "net = caffe.Net('lenet_deploy.prototxt', 'lenet_iter_10000.caffemodel', caffe.TEST)"
   ]
  },
  {
   "cell_type": "code",
   "execution_count": 7,
   "metadata": {
    "scrolled": true
   },
   "outputs": [
    {
     "name": "stdout",
     "output_type": "stream",
     "text": [
      "[[[ 0.99607843  0.99607843  0.99215686]\n",
      "  [ 0.99607843  0.99607843  0.99215686]\n",
      "  [ 0.99607843  0.99607843  0.99215686]\n",
      "  ..., \n",
      "  [ 0.99607843  0.99607843  0.99215686]\n",
      "  [ 0.99607843  0.99607843  0.99215686]\n",
      "  [ 0.99607843  0.99607843  0.99215686]]\n",
      "\n",
      " [[ 0.99607843  0.99607843  0.99215686]\n",
      "  [ 0.99607843  0.99607843  0.99215686]\n",
      "  [ 0.99607843  0.99607843  0.99215686]\n",
      "  ..., \n",
      "  [ 0.99607843  0.99607843  0.99215686]\n",
      "  [ 0.99607843  0.99607843  0.99215686]\n",
      "  [ 0.99607843  0.99607843  0.99215686]]\n",
      "\n",
      " [[ 0.99607843  0.99607843  0.99215686]\n",
      "  [ 0.99607843  0.99607843  0.99215686]\n",
      "  [ 0.99607843  0.99607843  0.99215686]\n",
      "  ..., \n",
      "  [ 0.99607843  0.99607843  0.99215686]\n",
      "  [ 0.99607843  0.99607843  0.99215686]\n",
      "  [ 0.99607843  0.99607843  0.99215686]]\n",
      "\n",
      " ..., \n",
      " [[ 0.99607843  0.99607843  0.99215686]\n",
      "  [ 0.99607843  0.99607843  0.99215686]\n",
      "  [ 0.99607843  0.99607843  0.99215686]\n",
      "  ..., \n",
      "  [ 0.99607843  0.99607843  0.99215686]\n",
      "  [ 0.99607843  0.99607843  0.99215686]\n",
      "  [ 0.99607843  0.99607843  0.99215686]]\n",
      "\n",
      " [[ 0.99607843  0.99607843  0.99215686]\n",
      "  [ 0.99607843  0.99607843  0.99215686]\n",
      "  [ 0.99607843  0.99607843  0.99215686]\n",
      "  ..., \n",
      "  [ 0.99607843  0.99607843  0.99215686]\n",
      "  [ 0.99607843  0.99607843  0.99215686]\n",
      "  [ 0.99607843  0.99607843  0.99215686]]\n",
      "\n",
      " [[ 0.99607843  0.99607843  0.99215686]\n",
      "  [ 0.99607843  0.99607843  0.99215686]\n",
      "  [ 0.99607843  0.99607843  0.99215686]\n",
      "  ..., \n",
      "  [ 0.99607843  0.99607843  0.99215686]\n",
      "  [ 0.99607843  0.99607843  0.99215686]\n",
      "  [ 0.99607843  0.99607843  0.99215686]]]\n"
     ]
    },
    {
     "data": {
      "image/png": "[encoded data removed]",
      "text/plain": [
       "<matplotlib.figure.Figure at 0x7f42f0610588>"
      ]
     },
     "metadata": {},
     "output_type": "display_data"
    },
    {
     "data": {
      "image/png": "[encoded data removed]",
      "text/plain": [
       "<matplotlib.figure.Figure at 0x7f42f05d0d30>"
      ]
     },
     "metadata": {},
     "output_type": "display_data"
    },
    {
     "name": "stdout",
     "output_type": "stream",
     "text": [
      "(28, 28)\n",
      "Sum =  149.787872484\n",
      "1.0\n",
      "(1, 10)\n",
      "Number: 0\n",
      "[[  9.99998331e-01   4.70414766e-12   2.36230457e-09   1.50749205e-13\n",
      "    3.88390600e-13   4.96161202e-11   1.69564771e-06   3.07304293e-10\n",
      "    1.89117139e-10   2.24180605e-11]]\n",
      "0.999998\n"
     ]
    }
   ],
   "source": [
    "img = caffe.io.load_image('sketch-0.png')\n",
    "\n",
    "# plt.imshow(im)\n",
    "# plt.show()\n",
    "\n",
    "print(img)\n",
    "img_gray = color.rgb2gray(img)\n",
    "img_gray = 1 - img_gray # invert the white background image\n",
    "\n",
    "plt.imshow(img_gray)\n",
    "plt.show()\n",
    "\n",
    "img_gray_resized = skimage.transform.resize(img_gray, (28, 28), mode='constant')\n",
    "plt.imshow(img_gray_resized)\n",
    "plt.show()\n",
    "print(img_gray_resized.shape)\n",
    "\n",
    "print(\"Sum = \", np.sum(img_gray_resized))\n",
    "net.blobs['data'].data[...] = img_gray_resized[np.newaxis, np.newaxis, :, :]\n",
    "\n",
    "out = net.forward()\n",
    "print(np.sum(out['prob']))\n",
    "print(out['prob'].shape)\n",
    "print(\"Number:\", out['prob'].argmax())\n",
    "print(out['prob'])\n",
    "print(out['prob'].max())\n",
    "# print(out['argmax'])"
   ]
  },
  {
   "cell_type": "code",
   "execution_count": null,
   "metadata": {},
   "outputs": [],
   "source": []
  }
 ],
 "metadata": {
  "kernelspec": {
   "display_name": "Python 3",
   "language": "python",
   "name": "python3"
  },
  "language_info": {
   "codemirror_mode": {
    "name": "ipython",
    "version": 3
   },
   "file_extension": ".py",
   "mimetype": "text/x-python",
   "name": "python",
   "nbconvert_exporter": "python",
   "pygments_lexer": "ipython3",
   "version": "3.6.3"
  }
 },
 "nbformat": 4,
 "nbformat_minor": 2
}
