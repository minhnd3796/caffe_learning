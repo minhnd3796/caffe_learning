{
 "cells": [
  {
   "cell_type": "code",
   "execution_count": 25,
   "metadata": {},
   "outputs": [],
   "source": [
    "import numpy as np\n",
    "from PIL import Image\n",
    "import matplotlib.pyplot as plt\n",
    "import caffe"
   ]
  },
  {
   "cell_type": "code",
   "execution_count": 26,
   "metadata": {},
   "outputs": [],
   "source": [
    "caffe.set_mode_cpu()"
   ]
  },
  {
   "cell_type": "code",
   "execution_count": 27,
   "metadata": {},
   "outputs": [],
   "source": [
    "net = caffe.Net(\"conv.prototxt\", caffe.TEST)"
   ]
  },
  {
   "cell_type": "code",
   "execution_count": 28,
   "metadata": {},
   "outputs": [
    {
     "name": "stdout",
     "output_type": "stream",
     "text": [
      "OrderedDict([('data', <caffe._caffe.Blob object at 0x7ffa811d5ea0>), ('conv', <caffe._caffe.Blob object at 0x7ffa811d5e48>)])\n"
     ]
    }
   ],
   "source": [
    "print(net.blobs)"
   ]
  },
  {
   "cell_type": "code",
   "execution_count": 29,
   "metadata": {},
   "outputs": [
    {
     "data": {
      "text/plain": [
       "[('data', (1, 1, 100, 100)), ('conv', (1, 3, 96, 96))]"
      ]
     },
     "execution_count": 29,
     "metadata": {},
     "output_type": "execute_result"
    }
   ],
   "source": [
    "[(k, v.data.shape) for k, v in net.blobs.items()]"
   ]
  },
  {
   "cell_type": "code",
   "execution_count": 30,
   "metadata": {},
   "outputs": [
    {
     "data": {
      "text/plain": [
       "[('conv', (3, 1, 5, 5), (3,))]"
      ]
     },
     "execution_count": 30,
     "metadata": {},
     "output_type": "execute_result"
    }
   ],
   "source": [
    "[(k, v[0].data.shape, v[1].data.shape) for k, v in net.params.items()]"
   ]
  },
  {
   "cell_type": "code",
   "execution_count": 31,
   "metadata": {},
   "outputs": [
    {
     "name": "stdout",
     "output_type": "stream",
     "text": [
      "(1, 3, 96, 96)\n"
     ]
    }
   ],
   "source": [
    "print(net.blobs['conv'].data.shape)"
   ]
  },
  {
   "cell_type": "code",
   "execution_count": 32,
   "metadata": {},
   "outputs": [],
   "source": [
    "im = np.array(Image.open('cat_gray.jpg'))\n",
    "im_input = im[np.newaxis, np.newaxis, :, :]\n",
    "net.blobs['data'].reshape(*im_input.shape)\n",
    "net.blobs['data'].data[...] = im_input"
   ]
  },
  {
   "cell_type": "code",
   "execution_count": 33,
   "metadata": {},
   "outputs": [
    {
     "data": {
      "text/plain": [
       "{'conv': array([[[[ -1.39650679e+00,  -1.60601604e+00,  -1.46155405e+00, ...,\n",
       "            -2.69459295e+00,  -2.64472055e+00,  -2.88116145e+00],\n",
       "          [ -1.49157834e+00,  -1.45729172e+00,  -1.43002129e+00, ...,\n",
       "            -2.95040107e+00,  -2.85427380e+00,  -2.97881222e+00],\n",
       "          [ -1.48985422e+00,  -1.44633162e+00,  -1.46184516e+00, ...,\n",
       "            -3.04565167e+00,  -2.94593668e+00,  -3.17129278e+00],\n",
       "          ..., \n",
       "          [ -2.18596792e+00,  -2.04595995e+00,  -2.16888928e+00, ...,\n",
       "            -9.93514347e+00,  -1.03533230e+01,  -1.06933889e+01],\n",
       "          [ -2.05323839e+00,  -1.79801250e+00,  -1.97147036e+00, ...,\n",
       "            -9.97479534e+00,  -9.61387825e+00,  -1.04148045e+01],\n",
       "          [ -2.17191148e+00,  -2.10336089e+00,  -2.05764151e+00, ...,\n",
       "            -1.03387089e+01,  -1.05553799e+01,  -1.09418087e+01]],\n",
       " \n",
       "         [[  9.47591662e-03,  -4.93942350e-02,  -1.78288251e-01, ...,\n",
       "            -1.00964665e-01,   1.65490597e-01,   5.05475760e-01],\n",
       "          [ -6.99357390e-02,  -1.52748168e-01,  -2.29451597e-01, ...,\n",
       "             4.09859419e-02,   1.92142516e-01,   3.62676054e-01],\n",
       "          [ -1.08867630e-01,  -1.91500589e-01,  -2.04188362e-01, ...,\n",
       "            -1.59123123e-01,  -8.45193863e-04,   2.01171130e-01],\n",
       "          ..., \n",
       "          [ -7.06071615e-01,  -2.61731446e-01,   1.46852836e-01, ...,\n",
       "            -2.33166146e+00,  -9.64146495e-01,  -4.75591183e-01],\n",
       "          [ -3.16799283e-02,  -4.27799523e-02,   1.47949159e-01, ...,\n",
       "            -1.27982509e+00,  -2.50908375e-01,  -3.64131331e-01],\n",
       "          [  3.35610479e-01,   3.27917248e-01,   3.30666661e-01, ...,\n",
       "            -1.76916778e+00,  -6.87652230e-01,  -2.22437501e-01]],\n",
       " \n",
       "         [[  7.61288762e-01,   5.75713098e-01,   5.65508544e-01, ...,\n",
       "             1.49744380e+00,   1.61865294e+00,   1.64169860e+00],\n",
       "          [  7.96278954e-01,   8.07105362e-01,   6.77770674e-01, ...,\n",
       "             1.58648431e+00,   1.61807883e+00,   1.63594663e+00],\n",
       "          [  5.70117176e-01,   6.87289596e-01,   6.97126746e-01, ...,\n",
       "             1.73445356e+00,   1.78368175e+00,   1.72944379e+00],\n",
       "          ..., \n",
       "          [  8.86921823e-01,   1.04468894e+00,   1.10904634e+00, ...,\n",
       "             4.15062332e+00,   5.27889347e+00,   5.20384216e+00],\n",
       "          [  1.08287990e+00,   1.17776632e+00,   1.21527529e+00, ...,\n",
       "             4.54748535e+00,   4.58518696e+00,   4.63620090e+00],\n",
       "          [  1.10465133e+00,   1.31645286e+00,   1.39107704e+00, ...,\n",
       "             6.40214872e+00,   5.85485554e+00,   5.36173630e+00]]]], dtype=float32)}"
      ]
     },
     "execution_count": 33,
     "metadata": {},
     "output_type": "execute_result"
    }
   ],
   "source": [
    "net.forward()"
   ]
  },
  {
   "cell_type": "code",
   "execution_count": 34,
   "metadata": {},
   "outputs": [],
   "source": [
    "net.save('mymodel.caffemodel')"
   ]
  },
  {
   "cell_type": "code",
   "execution_count": 28,
   "metadata": {},
   "outputs": [],
   "source": []
  },
  {
   "cell_type": "code",
   "execution_count": null,
   "metadata": {},
   "outputs": [],
   "source": []
  }
 ],
 "metadata": {
  "kernelspec": {
   "display_name": "Python 3",
   "language": "python",
   "name": "python3"
  },
  "language_info": {
   "codemirror_mode": {
    "name": "ipython",
    "version": 3
   },
   "file_extension": ".py",
   "mimetype": "text/x-python",
   "name": "python",
   "nbconvert_exporter": "python",
   "pygments_lexer": "ipython3",
   "version": "3.6.3"
  }
 },
 "nbformat": 4,
 "nbformat_minor": 2
}
